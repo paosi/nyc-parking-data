from IPython.display import display, clear_output
from sklearn.linear_model import LinearRegression

import ipywidgets as widgets
import matplotlib.pyplot as plt
import numpy as np
import pandas as pd
import requests



# Read fine data
def get_fine_data():

    url = "https://raw.githubusercontent.com/paosi/c964/refs/heads/main/stipulated-fines-fee-schedule.csv"
    df = pd.read_csv(url)

    # Rename column in df1 to match df2 for merging
    df.rename(columns={'VIOLATION CODE': 'violation_code'}, inplace=True)
    df.rename(columns={'VIOLATION DESCRIPTION': 'violation_description_info'}, inplace=True)
    df.rename(columns={'Fine Amount A': 'fine_amount'}, inplace=True)

    return df


# Get data endpoint for the corresponding year
def get_url(year) -> str:
    match year:
        case "2016":
            return "https://data.cityofnewyork.us/resource/kiv2-tbus.json"
        case "2017":
            return "https://data.cityofnewyork.us/resource/2bnn-yakx.json"
        case "2018":
            return "https://data.cityofnewyork.us/resource/a5td-mswe.json"
        case "2019":
            return "https://data.cityofnewyork.us/resource/c284-tqph.json"
        case "2020":
            return "https://data.cityofnewyork.us/resource/p7t3-5i9s.json"
        case "2021":
            return "https://data.cityofnewyork.us/resource/kvfd-bves.json"
        case "2022":
            return "https://data.cityofnewyork.us/resource/7mxj-7a6y.json"
        case "2023":
            return "https://data.cityofnewyork.us/resource/869v-vr48.json"
        case "2024":
            return "https://data.cityofnewyork.us/resource/pvqr-7yc4.json"
        case _:
            return "Invalid Year"


# Retrieve violation dataframe
def get_violation_data(year):

    url = get_url(year)
    response = requests.get(url)

    if response.status_code == 200:
        data = response.json()
        df = pd.DataFrame(data)
    else:
        print(f"Failed to retrieve data: {response.status_code}")

    return df


def merge_data(df1, df2):

    # Merge the datasets on 'violation_code'
    df1['violation_code'] = df1['violation_code'].astype(str)
    df2['violation_code'] = df2['violation_code'].astype(str)

    merged_df = pd.merge(df2, df1[['violation_code', 'violation_description_info', 'fine_amount']], on='violation_code', how='left')

    # Clean 'Fine Amount' to remove the dollar sign and convert to numerical value
    merged_df['fine_amount'] = pd.to_numeric(
        merged_df['fine_amount'].str.replace('$', '', regex=False),
        errors='coerce'
    )
    merged_df.dropna(subset=['fine_amount'], inplace=True)

    return merged_df


# Plot a heatmap showing the distribution of violation counts grouped by violation code
def show_violation_counts(year, df2) -> None:

    # Count occurrences of each violation code
    violations = df2['violation_code'].value_counts().reset_index()
    violations.columns = ['violation_code', 'count']
    violations = violations.sort_values(by='count', ascending=False)

    # For simplicity, let's visualize the top 50 violation codes in the heatmap
    top_50_violations = violations.head(50)

    # Prepare data for the heatmap
    count_matrix = top_50_violations['count'].values.reshape(-1, 1)

    # Plotting the heatmap
    plt.figure(figsize=(10, 12))
    plt.imshow(count_matrix, cmap='YlGnBu', aspect='auto')

    # Customizing the color bar
    cbar = plt.colorbar()
    cbar.set_label('Violation Count')

    # Setting the ticks
    plt.yticks(ticks=np.arange(top_50_violations.shape[0]), labels=top_50_violations['violation_code'])
    plt.xticks(ticks=[])

    # Adding labels and title
    plt.xlabel('Count')
    plt.ylabel('Violation Code')
    plt.title(f'Distribution of Violations {year}')
    print()
    plt.show()

    return


# Show revenue per violation code
def show_violation_revenue(year, merged_df) -> None:

    fine_summary_df = merged_df.groupby(['violation_code', 'violation_description_info']).agg(
        violation_count=pd.NamedAgg(column='fine_amount', aggfunc='size'),
        fine_amount=pd.NamedAgg(column='fine_amount', aggfunc='sum')
    ).reset_index()
    fine_summary_df = fine_summary_df.sort_values(by='fine_amount', ascending=False)

    plt.figure(figsize=(12, 6))
    plt.bar(fine_summary_df['violation_code'], fine_summary_df['fine_amount'])
    plt.title('Total Fines Collected per Violation Code')
    plt.xlabel('Violation Code')
    plt.ylabel('Total Fines Collected ($)')
    plt.xticks(rotation=90)
    print()
    plt.show()

    print()
    print(f"Summary of top 25 violatations by revenue collected in {year}:")
    print()
    print(fine_summary_df.head(25).to_string(index=False))
    print()

    return


# Show revenue per location code
def show_location_revenue(year, merged_df) -> None:

    location_summary_df = merged_df.groupby(['violation_location', 'street_name']).agg(
        violation_count=pd.NamedAgg(column='fine_amount', aggfunc='size'),
        fine_amount=pd.NamedAgg(column='fine_amount', aggfunc='sum')
    ).reset_index()
    location_summary_df = location_summary_df.sort_values(by='fine_amount', ascending=False)

    top_50_locations = location_summary_df.head(50)

    plt.figure(figsize=(12, 6))
    plt.bar(top_50_locations['violation_location'], top_50_locations['fine_amount'])
    plt.title('Total Fines Collected per Location')
    plt.xlabel('Location Code')
    plt.ylabel('Total Fines Collected ($)')
    plt.xticks(rotation=90)
    print()
    plt.show()

    print()
    print(f"Summary of top 25 locations by revenue collected in {year}:")
    print()
    print(top_50_locations.head(25).to_string(index=False))
    print()

    return


# Plot a heatmap showing the distribution of violation counts per location code
def show_location_counts(year, merged_df) -> None:

    location_summary_df = merged_df['violation_location'].value_counts().reset_index()
    location_summary_df.columns = ['violation_location', 'violation_count']
    location_summary_df = location_summary_df.sort_values(by='violation_count', ascending=False)

    top_50_locations = location_summary_df.head(50)

    # Creating a matrix for the heatmap; in this case, we will keep it 2D for simplicity
    # Generate a 2D array where rows correspond to locations and columns are counts
    count_matrix = top_50_locations['violation_count'].values.reshape(-1, 1)

    # Plotting the heatmap
    plt.figure(figsize=(10, 12))
    plt.imshow(count_matrix, cmap='YlGnBu', aspect='auto')

    # Customizing the color bar
    cbar = plt.colorbar()
    cbar.set_label('Violation Count')

    # Setting the ticks
    plt.yticks(ticks=np.arange(top_50_locations.shape[0]), labels=top_50_locations['violation_location'])
    plt.xticks(ticks=[])

    # Adding labels and title
    plt.xlabel('Violation Count')
    plt.ylabel('Location Code')
    plt.title('Violation Location Hotspots')
    print()
    plt.show()

    return


def get_yearly_revenue():

    year = 2016
    years = []
    revenues = []
    df1 = get_fine_data()

    while year <= 2024:
        df2 = get_violation_data(str(year))
        merged_df = merge_data(df1, df2)
        revenue = merged_df['fine_amount'].sum()
        revenues.append(revenue)
        years.append(year)
        year += 1

    return years, revenues


# Show projected revenue for a year chosen by the user
def forecast_revenue(year=None) -> None:

    is_all_5 = False
    if year == None:
        is_all_5 = True
        year = 2029

    print()
    print("Working...")
    print()

    years, revenues = get_yearly_revenue()

    # Convert years to numpy array and reshape it for the model
    years_array = np.array(years).reshape(-1, 1)

    # Train the model
    model = LinearRegression()
    model.fit(years_array, revenues)

    # Predict the next x years
    i = 2025
    temp_array = []
    while i <= year:
        temp_array.append(i)
        i += 1
    future_years = np.array(temp_array).reshape(-1, 1)
    predicted_revenues = model.predict(future_years)

    predicted_df = pd.DataFrame({
        'year': future_years.flatten(),
        'total_revenue': predicted_revenues
    })

    clear_output(wait=True)

    if not is_all_5:
        projected_data = predicted_df.loc[predicted_df["year"] == year, "total_revenue"].values[0]
        print()
        print(f"The projected total parking violation revenue for {year} is: ${projected_data:.2f}")
        print()
    else:
        print()
        print("Projected Revenues for the next 5 years:")
        print()
        print(predicted_df)

    # Combine historical and predicted data for plotting
    historical_df = pd.DataFrame({
        'year': years,
        'total_revenue': revenues
    })

    combined_df = pd.concat([historical_df, predicted_df], ignore_index=True)

    # Visualize the results
    plt.figure(figsize=(10, 6))
    plt.scatter(historical_df['year'], historical_df['total_revenue'], color='blue', label='Historical Revenue')

    plt.plot(combined_df['year'], combined_df['total_revenue'], color='blue')

    plt.scatter(predicted_df['year'], predicted_df['total_revenue'], color='red', label='Forecasted Revenue')
    plt.plot(predicted_df['year'], predicted_df['total_revenue'], color='red')

    plt.xlabel('Year')
    plt.ylabel('Total Revenue')
    plt.title('NYC Parking Violation Revenue Forecast')
    plt.legend()
    plt.show()

    display(clear_button)

    return


# Define callback functions
def on_dropdown_change(change) -> None:

    print()
    print("Working...")
    print()

    year = change['new']

    clear_output(wait=True)

    df1 = get_fine_data()
    df2 = get_violation_data(year)

    # Merge the datasets on 'violation_code'
    merged_df = merge_data(df1, df2)

    show_violation_counts(year, merged_df)
    show_violation_revenue(year, merged_df)
    show_location_counts(year, merged_df)
    show_location_revenue(year, merged_df)


    total_revenue = merged_df['fine_amount'].sum()
    print()
    print(f"Total Parking Violation Revenue in {year}: ${total_revenue:.2f}")
    print()
    display(clear_button)

    return

def on_forecast_dropdown_change(change) -> None:
    forecast_revenue(int(change['new'])) if change['new'] != "All 5 Years" else forecast_revenue()
    return

def on_clear_button_clicked(b) -> None:
    clear_output(wait=True)
    display_widgets()

    return


# User interface
def display_widgets() -> None:
    # Display the widgets
    print("* New York City Parking Violation Data for 2016 - 2024 *")
    print()
    display(dropdown)
    print()
    print("              -OR-              ")
    print()
    print("* View Projected Revenue for 2025-2029 *")
    print()
    display(forecast_dropdown)
    print()
    print()
    display(clear_button)
    print()

    return


# Create the widgets
dropdown = widgets.Dropdown(
    options=['Select Year', '2016', '2017', '2018', '2019', '2020', '2021', '2022', '2023', '2024'],
    value='Select Year',
    description='View Data:',
)
forecast_dropdown = widgets.Dropdown(
    options=['Select Year', '2025', '2026', '2027', '2028', '2029', 'All 5 Years'],
    value='Select Year',
    description='View Data:',
)
clear_button = widgets.Button(description="Clear")


# Link the widgets to the callback functions
dropdown.observe(on_dropdown_change, names='value')
forecast_dropdown.observe(on_forecast_dropdown_change, names='value')
clear_button.on_click(on_clear_button_clicked)


# Launch user interface
display_widgets()
